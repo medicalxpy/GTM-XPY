{
 "cells": [
  {
   "cell_type": "code",
   "execution_count": 4,
   "id": "00783171-3397-42bf-9c95-aeb4e86da139",
   "metadata": {},
   "outputs": [
    {
     "name": "stderr",
     "output_type": "stream",
     "text": [
      "usage: ipykernel_launcher.py [-h] [--create CREATE] [--train TRAIN]\n",
      "                             [--parallelism PARALLELISM] [--query QUERY]\n",
      "ipykernel_launcher.py: error: unrecognized arguments: -f /root/.local/share/jupyter/runtime/kernel-c2edb566-3324-4be2-9021-eded6af5c827.json\n"
     ]
    },
    {
     "ename": "SystemExit",
     "evalue": "2",
     "output_type": "error",
     "traceback": [
      "An exception has occurred, use %tb to see the full traceback.\n",
      "\u001b[0;31mSystemExit\u001b[0m\u001b[0;31m:\u001b[0m 2\n"
     ]
    }
   ],
   "source": [
    "from __future__ import print_function\n",
    "import argparse\n",
    "import pprint\n",
    "import numpy as np\n",
    "import pandas as pd\n",
    "import anndata\n",
    "\n",
    "from GeneGloVe import GeneGloVe  # Assuming the GeneGloVe class is saved in this file\n",
    "from scipy.sparse import coo_matrix\n",
    "\n",
    "def read_gene_expression(filename):\n",
    "    \"\"\"\n",
    "    Read a gene expression dataset from an .h5ad file and yield gene expression vectors.\n",
    "    \"\"\"\n",
    "    adata = anndata.read_h5ad(filename)\n",
    "    for row in adata.X:  # Assuming .X contains the expression data\n",
    "        yield row\n",
    "\n",
    "\n",
    "def create_co_occurrence_matrix(data, gene_names):\n",
    "    \"\"\"\n",
    "    Create a co-occurrence matrix from gene expression data.\n",
    "    Returns a COO format sparse matrix.\n",
    "    \"\"\"\n",
    "    # Example logic for constructing a co-occurrence matrix\n",
    "    num_genes = len(gene_names)\n",
    "    rows, cols, data_values = [], [], []\n",
    "    \n",
    "    for expression in data:\n",
    "        non_zero_indices = np.nonzero(expression)[0]\n",
    "        for i in range(len(non_zero_indices)):\n",
    "            for j in range(i + 1, len(non_zero_indices)):\n",
    "                gene_i = non_zero_indices[i]\n",
    "                gene_j = non_zero_indices[j]\n",
    "                \n",
    "                # Calculate co-occurrence (here using simple increment)\n",
    "                rows.append(gene_i)\n",
    "                cols.append(gene_j)\n",
    "                data_values.append(1)  # Adjust based on your co-occurrence logic\n",
    "\n",
    "    return coo_matrix((data_values, (rows, cols)), shape=(num_genes, num_genes))\n",
    "\n",
    "if __name__ == '__main__':\n",
    "    # Set up command line parameters.\n",
    "    parser = argparse.ArgumentParser(description='Fit a GloVe model for gene embeddings.')\n",
    "\n",
    "    parser.add_argument('--create', '-c', action='store',\n",
    "                        default=None,\n",
    "                        help='The filename of the gene expression dataset.')\n",
    "    parser.add_argument('--train', '-t', action='store',\n",
    "                        default=0,\n",
    "                        help='Train the GloVe model with this number of epochs.')\n",
    "    parser.add_argument('--parallelism', '-p', action='store',\n",
    "                        default=1,\n",
    "                        help='Number of parallel threads to use for training.')\n",
    "    parser.add_argument('--query', '-q', action='store',\n",
    "                        default='',\n",
    "                        help='Get closest genes to this gene.')\n",
    "    args = parser.parse_args()\n",
    "\n",
    "    if args.create:\n",
    "        # Read the gene expression data\n",
    "        print('Reading gene expression dataset...')\n",
    "        data = list(read_gene_expression(args.create))\n",
    "        gene_names = np.array(pd.read_csv(args.create).columns[1:])  # Assuming the first column is not a gene\n",
    "\n",
    "        # Create the co-occurrence matrix\n",
    "        print('Creating co-occurrence matrix...')\n",
    "        co_occurrence_matrix = create_co_occurrence_matrix(data, gene_names)\n",
    "\n",
    "        # Save gene names for later use\n",
    "        np.save('gene_names.npy', gene_names)\n",
    "\n",
    "    if args.train:\n",
    "        # Train the GloVe model and save it to disk.\n",
    "        print('Training the GloVe model...')\n",
    "        glove = GeneGloVe(no_components=100, learning_rate=0.05)\n",
    "        glove.fit(co_occurrence_matrix, epochs=int(args.train),\n",
    "                  no_threads=int(args.parallelism), verbose=True)\n",
    "\n",
    "        # Load gene names for the dictionary\n",
    "        gene_names = np.load('gene_names.npy', allow_pickle=True).tolist()\n",
    "        gene_dictionary = {name: idx for idx, name in enumerate(gene_names)}\n",
    "        glove.add_dictionary(gene_dictionary)\n",
    "\n",
    "        # Save the model\n",
    "        glove.save('gene_glove.model')\n",
    "\n",
    "    if args.query:\n",
    "        # Query the model for most similar genes.\n",
    "        print('Loading pre-trained GloVe model...')\n",
    "        glove = GeneGloVe.load('gene_glove.model')\n",
    "\n",
    "        print('Querying for %s' % args.query)\n",
    "        similar_genes = glove.most_similar(args.query, number=10)\n",
    "        pprint.pprint(similar_genes)\n"
   ]
  },
  {
   "cell_type": "code",
   "execution_count": 7,
   "id": "442265c7-4830-4309-ac4e-8f594b7c0c7a",
   "metadata": {},
   "outputs": [
    {
     "ename": "AttributeError",
     "evalue": "'GeneGloVe' object has no attribute 'build_corpus'",
     "output_type": "error",
     "traceback": [
      "\u001b[0;31m---------------------------------------------------------------------------\u001b[0m",
      "\u001b[0;31mAttributeError\u001b[0m                            Traceback (most recent call last)",
      "\u001b[0;32m/tmp/ipykernel_253/36902563.py\u001b[0m in \u001b[0;36m<cell line: 4>\u001b[0;34m()\u001b[0m\n\u001b[1;32m      2\u001b[0m \u001b[0madata\u001b[0m \u001b[0;34m=\u001b[0m \u001b[0manndata\u001b[0m\u001b[0;34m.\u001b[0m\u001b[0mread_h5ad\u001b[0m\u001b[0;34m(\u001b[0m\u001b[0;34m'/mnt/Cortex.h5ad'\u001b[0m\u001b[0;34m)\u001b[0m\u001b[0;34m\u001b[0m\u001b[0;34m\u001b[0m\u001b[0m\n\u001b[1;32m      3\u001b[0m \u001b[0mexpression_data\u001b[0m\u001b[0;34m,\u001b[0m \u001b[0mgene_names\u001b[0m \u001b[0;34m=\u001b[0m \u001b[0madata\u001b[0m\u001b[0;34m.\u001b[0m\u001b[0mX\u001b[0m\u001b[0;34m,\u001b[0m \u001b[0madata\u001b[0m\u001b[0;34m.\u001b[0m\u001b[0mvar_names\u001b[0m\u001b[0;34m\u001b[0m\u001b[0;34m\u001b[0m\u001b[0m\n\u001b[0;32m----> 4\u001b[0;31m \u001b[0mgene_glove\u001b[0m\u001b[0;34m.\u001b[0m\u001b[0mbuild_corpus\u001b[0m\u001b[0;34m(\u001b[0m\u001b[0mexpression_data\u001b[0m\u001b[0;34m,\u001b[0m \u001b[0mgene_names\u001b[0m\u001b[0;34m)\u001b[0m\u001b[0;34m\u001b[0m\u001b[0;34m\u001b[0m\u001b[0m\n\u001b[0m\u001b[1;32m      5\u001b[0m \u001b[0mgene_glove\u001b[0m\u001b[0;34m.\u001b[0m\u001b[0mfit_glove\u001b[0m\u001b[0;34m(\u001b[0m\u001b[0;34m)\u001b[0m\u001b[0;34m\u001b[0m\u001b[0;34m\u001b[0m\u001b[0m\n\u001b[1;32m      6\u001b[0m \u001b[0mgene_glove\u001b[0m\u001b[0;34m.\u001b[0m\u001b[0msave_model\u001b[0m\u001b[0;34m(\u001b[0m\u001b[0;34m\"gene_glove.model\"\u001b[0m\u001b[0;34m)\u001b[0m\u001b[0;34m\u001b[0m\u001b[0;34m\u001b[0m\u001b[0m\n",
      "\u001b[0;31mAttributeError\u001b[0m: 'GeneGloVe' object has no attribute 'build_corpus'"
     ]
    }
   ],
   "source": [
    "gene_glove = GeneGloVe('/mnt/Cortex.h5ad')\n",
    "expression_data, gene_names = gene_glove.read_data()\n",
    "gene_glove.build_corpus(expression_data, gene_names)\n",
    "gene_glove.fit_glove()\n",
    "gene_glove.save_model(\"gene_glove.model\")"
   ]
  },
  {
   "cell_type": "code",
   "execution_count": null,
   "id": "3e8eb5a0-32dc-40ab-9ada-9d0337303c64",
   "metadata": {},
   "outputs": [],
   "source": []
  }
 ],
 "metadata": {
  "kernelspec": {
   "display_name": "myconda",
   "language": "python",
   "name": "myconda"
  },
  "language_info": {
   "codemirror_mode": {
    "name": "ipython",
    "version": 3
   },
   "file_extension": ".py",
   "mimetype": "text/x-python",
   "name": "python",
   "nbconvert_exporter": "python",
   "pygments_lexer": "ipython3",
   "version": "3.8.12"
  }
 },
 "nbformat": 4,
 "nbformat_minor": 5
}
