{
 "cells": [
  {
   "cell_type": "code",
   "execution_count": 1,
   "id": "00783171-3397-42bf-9c95-aeb4e86da139",
   "metadata": {},
   "outputs": [],
   "source": [
    "from __future__ import print_function\n",
    "import argparse\n",
    "import pprint\n",
    "import numpy as np\n",
    "import pandas as pd\n",
    "import anndata\n",
    "\n",
    "from GeneGloVe import GeneGloVe  # Assuming the GeneGloVe class is saved in this file\n",
    "from scipy.sparse import coo_matrix\n",
    "\n",
    "def read_gene_expression(filename):\n",
    "    \"\"\"\n",
    "    Read a gene expression dataset from an .h5ad file and yield gene expression vectors.\n",
    "    \"\"\"\n",
    "    adata = anndata.read_h5ad(filename)\n",
    "    for row in adata.X:  # Assuming .X contains the expression data\n",
    "        yield row\n",
    "\n",
    "\n",
    "def create_co_occurrence_matrix(data, gene_names):\n",
    "    \"\"\"\n",
    "    Create a co-occurrence matrix from gene expression data.\n",
    "    Returns a COO format sparse matrix.\n",
    "    \"\"\"\n",
    "    # Example logic for constructing a co-occurrence matrix\n",
    "    num_genes = len(gene_names)\n",
    "    rows, cols, data_values = [], [], []\n",
    "    \n",
    "    for expression in data:\n",
    "        non_zero_indices = np.nonzero(expression)[0]\n",
    "        for i in range(len(non_zero_indices)):\n",
    "            for j in range(i + 1, len(non_zero_indices)):\n",
    "                gene_i = non_zero_indices[i]\n",
    "                gene_j = non_zero_indices[j]\n",
    "                \n",
    "                # Calculate co-occurrence (here using simple increment)\n",
    "                rows.append(gene_i)\n",
    "                cols.append(gene_j)\n",
    "                data_values.append(1)  # Adjust based on your co-occurrence logic\n",
    "\n",
    "    return coo_matrix((data_values, (rows, cols)), shape=(num_genes, num_genes))\n",
    "\n"
   ]
  },
  {
   "cell_type": "code",
   "execution_count": null,
   "id": "3e8eb5a0-32dc-40ab-9ada-9d0337303c64",
   "metadata": {},
   "outputs": [],
   "source": []
  }
 ],
 "metadata": {
  "kernelspec": {
   "display_name": "base",
   "language": "python",
   "name": "python3"
  },
  "language_info": {
   "codemirror_mode": {
    "name": "ipython",
    "version": 3
   },
   "file_extension": ".py",
   "mimetype": "text/x-python",
   "name": "python",
   "nbconvert_exporter": "python",
   "pygments_lexer": "ipython3",
   "version": "3.11.7"
  }
 },
 "nbformat": 4,
 "nbformat_minor": 5
}
