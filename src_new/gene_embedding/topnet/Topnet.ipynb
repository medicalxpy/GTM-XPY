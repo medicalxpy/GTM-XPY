{
 "cells": [
  {
   "cell_type": "markdown",
   "metadata": {},
   "source": [
    "# Topnet生成gene  embedding（DLPFC数据）"
   ]
  },
  {
   "cell_type": "markdown",
   "metadata": {},
   "source": [
    "## 类似的，先用模拟数据把code跑通"
   ]
  },
  {
   "cell_type": "code",
   "execution_count": 1,
   "metadata": {},
   "outputs": [],
   "source": [
    "import numpy as np\n",
    "import pandas as pd\n",
    "from scipy.stats import pearsonr\n",
    "import networkx as nx\n",
    "\n",
    "# 假设 expression_matrix 是 DLPFC 数据集的基因表达矩阵\n",
    "# 行表示基因，列表示样本\n",
    "expression_matrix = np.random.rand(1000, 20)  # 1000个基因，20个样本\n",
    "gene_names = [f\"Gene_{i}\" for i in range(expression_matrix.shape[0])]\n",
    "\n",
    "# 计算基因之间的相关系数，构建共表达网络\n",
    "correlation_matrix = np.corrcoef(expression_matrix)\n",
    "\n",
    "# 构建网络，基于相关系数阈值（如0.8）构建边\n",
    "threshold = 0.8  # 这个参数可以在后期进行修改\n",
    "G = nx.Graph()\n",
    "for i in range(correlation_matrix.shape[0]):\n",
    "    for j in range(i+1, correlation_matrix.shape[1]):\n",
    "        if correlation_matrix[i, j] > threshold:\n",
    "            G.add_edge(gene_names[i], gene_names[j], weight=correlation_matrix[i, j])\n"
   ]
  },
  {
   "cell_type": "code",
   "execution_count": 3,
   "metadata": {},
   "outputs": [],
   "source": [
    "import torch\n",
    "import torch.nn as nn\n",
    "import networkx as nx\n",
    "from sklearn.preprocessing import normalize\n",
    "\n",
    "# TopNet模型类\n",
    "class TopNet(nn.Module):\n",
    "    def __init__(self, num_genes, num_topics):\n",
    "        super(TopNet, self).__init__()\n",
    "        self.num_topics = num_topics\n",
    "        self.fc = nn.Linear(num_genes, num_topics)\n",
    "    \n",
    "    def forward(self, x, gene_network):\n",
    "        # 结合基因网络进行消息传递和主题分布学习\n",
    "        # 注意：此处为简化的TopNet实现（在DLPFC数据集上，会定义更标准、完整的Topnet模型）\n",
    "        topic_distribution = torch.softmax(self.fc(x), dim=1)\n",
    "        return topic_distribution\n",
    "\n",
    "# 初始化TopNet模型\n",
    "num_genes = expression_matrix.shape[0]\n",
    "num_topics = 10  # 假设有10个潜在主题（同样的，可以后期调整）\n",
    "topnet_model = TopNet(num_genes=num_genes, num_topics=num_topics)\n",
    "\n",
    "# 生成基因的嵌入\n",
    "# 将输入从 (1000x20) 转换为 (20x1000)，以适应线性层的输入\n",
    "expression_tensor = expression_tensor.T  # 转置操作，变为 (20, 1000)\n",
    "# 然后传入模型\n",
    "gene_embeddings = topnet_model(expression_tensor, G)\n",
    "\n",
    "# gene_embeddings 就是生成的基因嵌入"
   ]
  },
  {
   "cell_type": "code",
   "execution_count": 4,
   "metadata": {},
   "outputs": [
    {
     "data": {
      "text/plain": [
       "tensor([[0.0971, 0.1021, 0.0941, 0.0991, 0.0993, 0.1043, 0.1044, 0.0990, 0.1046,\n",
       "         0.0959],\n",
       "        [0.0993, 0.1036, 0.0934, 0.0982, 0.1005, 0.1040, 0.1008, 0.0993, 0.1045,\n",
       "         0.0964],\n",
       "        [0.0997, 0.1019, 0.0949, 0.0954, 0.0999, 0.1041, 0.1043, 0.0972, 0.1030,\n",
       "         0.0997],\n",
       "        [0.0955, 0.1012, 0.0934, 0.1013, 0.0997, 0.1067, 0.1007, 0.0983, 0.1046,\n",
       "         0.0987],\n",
       "        [0.1013, 0.1003, 0.0944, 0.0947, 0.1004, 0.1018, 0.1046, 0.0974, 0.1063,\n",
       "         0.0986],\n",
       "        [0.0980, 0.1053, 0.0930, 0.0966, 0.0978, 0.1024, 0.1037, 0.0964, 0.1072,\n",
       "         0.0995],\n",
       "        [0.0983, 0.1020, 0.0952, 0.0988, 0.0975, 0.1031, 0.1021, 0.1003, 0.1075,\n",
       "         0.0952],\n",
       "        [0.0994, 0.1021, 0.0969, 0.0961, 0.1020, 0.1043, 0.1008, 0.0974, 0.1040,\n",
       "         0.0970],\n",
       "        [0.0958, 0.1020, 0.0958, 0.0972, 0.0986, 0.1062, 0.1044, 0.1014, 0.1044,\n",
       "         0.0942],\n",
       "        [0.0976, 0.0999, 0.0967, 0.0957, 0.1010, 0.1063, 0.1037, 0.0976, 0.1042,\n",
       "         0.0973],\n",
       "        [0.0976, 0.1032, 0.0949, 0.0969, 0.1007, 0.1014, 0.1053, 0.0986, 0.1064,\n",
       "         0.0951],\n",
       "        [0.1002, 0.1014, 0.0929, 0.0977, 0.0968, 0.1037, 0.1026, 0.0998, 0.1074,\n",
       "         0.0973],\n",
       "        [0.0985, 0.1010, 0.0932, 0.0981, 0.1033, 0.1040, 0.1021, 0.0977, 0.1054,\n",
       "         0.0966],\n",
       "        [0.0955, 0.1027, 0.0949, 0.0974, 0.1015, 0.1027, 0.1039, 0.0988, 0.1063,\n",
       "         0.0963],\n",
       "        [0.0966, 0.1049, 0.0951, 0.0987, 0.0973, 0.1068, 0.1006, 0.0963, 0.1066,\n",
       "         0.0971],\n",
       "        [0.0968, 0.1033, 0.0952, 0.0984, 0.1029, 0.1024, 0.1015, 0.0964, 0.1054,\n",
       "         0.0976],\n",
       "        [0.1006, 0.1003, 0.0918, 0.1001, 0.1017, 0.1043, 0.1017, 0.0948, 0.1048,\n",
       "         0.0997],\n",
       "        [0.0964, 0.0996, 0.0937, 0.0987, 0.1005, 0.1072, 0.1042, 0.0976, 0.1035,\n",
       "         0.0985],\n",
       "        [0.1007, 0.0995, 0.0957, 0.0979, 0.0992, 0.1047, 0.1048, 0.0968, 0.1037,\n",
       "         0.0970],\n",
       "        [0.0995, 0.1023, 0.0919, 0.0952, 0.1023, 0.1054, 0.1028, 0.0976, 0.1079,\n",
       "         0.0951]], grad_fn=<SoftmaxBackward0>)"
      ]
     },
     "execution_count": 4,
     "metadata": {},
     "output_type": "execute_result"
    }
   ],
   "source": [
    "#gene_embeddings"
   ]
  },
  {
   "cell_type": "markdown",
   "metadata": {},
   "source": [
    "## 使用DLPFC数据以及标准的Topnet模型生成gene embedding"
   ]
  },
  {
   "cell_type": "code",
   "execution_count": 9,
   "metadata": {},
   "outputs": [
    {
     "name": "stderr",
     "output_type": "stream",
     "text": [
      "/opt/anaconda3/envs/pytorchmac/lib/python3.11/site-packages/anndata/_core/anndata.py:1820: UserWarning: Variable names are not unique. To make them unique, call `.var_names_make_unique`.\n",
      "  utils.warn_names_duplicates(\"var\")\n",
      "/opt/anaconda3/envs/pytorchmac/lib/python3.11/site-packages/anndata/_core/anndata.py:1820: UserWarning: Variable names are not unique. To make them unique, call `.var_names_make_unique`.\n",
      "  utils.warn_names_duplicates(\"var\")\n"
     ]
    }
   ],
   "source": [
    "import torch\n",
    "import torch.nn as nn\n",
    "import torch.nn.functional as F\n",
    "from torch_geometric.nn import GCNConv\n",
    "import networkx as nx\n",
    "import anndata\n",
    "import scanpy as sc\n",
    "from sklearn.preprocessing import normalize\n",
    "\n",
    "# 定义标准的TopNet模型\n",
    "class TopNet(nn.Module):\n",
    "    def __init__(self, input_dim, hidden_dim, output_dim):\n",
    "        super(TopNet, self).__init__()\n",
    "        # 图卷积层\n",
    "        self.conv1 = GCNConv(input_dim, hidden_dim)\n",
    "        self.conv2 = GCNConv(hidden_dim, hidden_dim)\n",
    "        \n",
    "        # 全连接层，用于生成主题分布\n",
    "        self.fc1 = nn.Linear(hidden_dim, hidden_dim)\n",
    "        self.fc2 = nn.Linear(hidden_dim, output_dim)\n",
    "\n",
    "    def forward(self, x, edge_index):\n",
    "        # 图卷积部分\n",
    "        x = F.relu(self.conv1(x, edge_index))\n",
    "        x = F.relu(self.conv2(x, edge_index))\n",
    "        \n",
    "        # 主题分布部分\n",
    "        x = F.relu(self.fc1(x))\n",
    "        topic_distribution = torch.softmax(self.fc2(x), dim=1)\n",
    "        \n",
    "        return topic_distribution\n",
    "\n",
    "# 读取数据\n",
    "input_dir = '/Users/lee/Documents/bio/STAGATE_pyG_main/Dataset/DLPFC/151673'\n",
    "adata = sc.read_visium(path=input_dir, count_file = 'filtered_feature_bc_matrix.h5')\n",
    "adata.var_names_make_unique()\n",
    "\n",
    "# 获取基因表达矩阵\n",
    "expression_matrix = adata.X.toarray()  # 将稀疏矩阵转换为密集矩阵\n",
    "expression_matrix = normalize(expression_matrix, norm='l1', axis=1)  # 归一化，方法l1也可以变成其他的\n"
   ]
  },
  {
   "cell_type": "code",
   "execution_count": 14,
   "metadata": {},
   "outputs": [
    {
     "data": {
      "text/plain": [
       "AnnData object with n_obs × n_vars = 3639 × 33538\n",
       "    obs: 'in_tissue', 'array_row', 'array_col'\n",
       "    var: 'gene_ids', 'feature_types', 'genome'\n",
       "    uns: 'spatial'\n",
       "    obsm: 'spatial'"
      ]
     },
     "execution_count": 14,
     "metadata": {},
     "output_type": "execute_result"
    }
   ],
   "source": [
    "adata"
   ]
  },
  {
   "cell_type": "code",
   "execution_count": 16,
   "metadata": {},
   "outputs": [
    {
     "data": {
      "text/plain": [
       "(3639, 33538)"
      ]
     },
     "execution_count": 16,
     "metadata": {},
     "output_type": "execute_result"
    }
   ],
   "source": [
    "expression_matrix.shape"
   ]
  },
  {
   "cell_type": "code",
   "execution_count": 19,
   "metadata": {},
   "outputs": [
    {
     "data": {
      "text/plain": [
       "3639"
      ]
     },
     "execution_count": 19,
     "metadata": {},
     "output_type": "execute_result"
    }
   ],
   "source": [
    "expression_matrix.shape[0]  # 这里取的是gene数3639，而不是细胞数33538"
   ]
  },
  {
   "cell_type": "code",
   "execution_count": 20,
   "metadata": {},
   "outputs": [
    {
     "name": "stdout",
     "output_type": "stream",
     "text": [
      "3639\n"
     ]
    }
   ],
   "source": [
    "# 获取基因数量\n",
    "num_genes = expression_matrix.shape[0]\n",
    "print(num_genes)\n",
    "\n",
    "# 构建基因网络，确保节点数量与基因数量一致\n",
    "G = nx.gnm_random_graph(num_genes, num_genes * 2)  # num_genes确保生成的网络大小匹配\n",
    "edge_index = torch.tensor(list(G.edges), dtype=torch.long).t().contiguous()\n",
    "\n",
    "# 确保 edge_index 中的索引范围在 [0, num_genes-1] 之间\n",
    "valid_mask = (edge_index[0] < num_genes) & (edge_index[1] < num_genes)\n",
    "edge_index = edge_index[:, valid_mask]\n"
   ]
  },
  {
   "cell_type": "code",
   "execution_count": 24,
   "metadata": {},
   "outputs": [
    {
     "name": "stdout",
     "output_type": "stream",
     "text": [
      "Gene embeddings shape: torch.Size([3639, 10])\n"
     ]
    }
   ],
   "source": [
    "# 将基因表达矩阵转换为tensor\n",
    "expression_tensor = torch.tensor(expression_matrix, dtype=torch.float32)\n",
    "\n",
    "# 定义TopNet模型\n",
    "input_dim = expression_tensor.shape[1]\n",
    "hidden_dim = 64  # 隐藏层维度，可以调整\n",
    "output_dim = 10  # 生成的主题数，同样可以调整\n",
    "topnet_model = TopNet(input_dim=input_dim, hidden_dim=hidden_dim, output_dim=output_dim)\n",
    "\n",
    "# 将数据输入模型\n",
    "gene_embeddings = topnet_model(expression_tensor, edge_index)\n",
    "\n",
    "# 输出gene_embeddings\n",
    "print(\"Gene embeddings shape:\", gene_embeddings.shape)"
   ]
  },
  {
   "cell_type": "markdown",
   "metadata": {},
   "source": [
    "# 保存gene_embeddings到csv"
   ]
  },
  {
   "cell_type": "code",
   "execution_count": 25,
   "metadata": {},
   "outputs": [
    {
     "name": "stdout",
     "output_type": "stream",
     "text": [
      "Gene embeddings saved to /Users/lee/Documents/bio/Topic_model/gene_embeddings_Topnet\n"
     ]
    }
   ],
   "source": [
    "import pandas as pd\n",
    "gene_embeddings_df = pd.DataFrame(gene_embeddings.detach().numpy())\n",
    "output_csv_path = \"/Users/lee/Documents/bio/Topic_model/gene_embeddings_Topnet\"\n",
    "#gene_embeddings_df.to_csv(output_csv_path, index=False)\n",
    "print(f\"Gene embeddings saved to {output_csv_path}\")"
   ]
  },
  {
   "cell_type": "code",
   "execution_count": null,
   "metadata": {},
   "outputs": [],
   "source": []
  }
 ],
 "metadata": {
  "kernelspec": {
   "display_name": "Python 3",
   "language": "python",
   "name": "python3"
  },
  "language_info": {
   "codemirror_mode": {
    "name": "ipython",
    "version": 3
   },
   "file_extension": ".py",
   "mimetype": "text/x-python",
   "name": "python",
   "nbconvert_exporter": "python",
   "pygments_lexer": "ipython3",
   "version": "3.11.7"
  }
 },
 "nbformat": 4,
 "nbformat_minor": 2
}
